{
  "cells": [
    {
      "cell_type": "markdown",
      "metadata": {
        "id": "O3HunvDuetg5"
      },
      "source": [
        "# Data Exploration and Model Training Notebook\n",
        "\n",
        "This notebook walks through loading, exploring, and preprocessing a news dataset, training a classification model to detect real vs fake news, and evaluating the model's performance.\n",
        "\n",
        "---\n",
        "\n",
        "## 1. Importing Necessary Libraries\n",
        "\n",
        "We start by importing the libraries for data manipulation, visualization, and machine learning."
      ]
    },
    {
      "cell_type": "code",
      "execution_count": 1,
      "metadata": {
        "id": "5vZES2i_etg9"
      },
      "outputs": [],
      "source": [
        "import pandas as pd\n",
        "import numpy as np\n",
        "import seaborn as sns\n",
        "import matplotlib.pyplot as plt\n",
        "\n",
        "from sklearn.model_selection import train_test_split\n",
        "from sklearn.metrics import classification_report\n",
        "from sklearn.feature_extraction.text import CountVectorizer\n",
        "from sklearn.naive_bayes import MultinomialNB"
      ]
    },
    {
      "cell_type": "markdown",
      "metadata": {
        "id": "7XAmIn7Ietg_"
      },
      "source": [
        "## 2. Loading the Dataset\n",
        "\n",
        "Let's load the processed dataset and preview the first few rows to understand its structure."
      ]
    },
    {
      "cell_type": "code",
      "execution_count": 2,
      "metadata": {
        "colab": {
          "base_uri": "https://localhost:8080/",
          "height": 206
        },
        "id": "pZqYCtHZetg_",
        "outputId": "4f02db6f-4591-46b0-8858-6825fd1d8557"
      },
      "outputs": [
        {
          "output_type": "execute_result",
          "data": {
            "text/plain": [
              "                                                text  label\n",
              "0  donald trump s kids may support him in spirit ...      0\n",
              "1  seoul reuters  north korea s latest defector a...      1\n",
              "2  during a meeting of the welsh members of the p...      0\n",
              "3  washington reuters  us president donald trump ...      1\n",
              "4  dubai reuters  the radio station of yemen s ho...      1"
            ],
            "text/html": [
              "\n",
              "  <div id=\"df-5c165205-7ed8-4edb-998b-12e9a12e2959\" class=\"colab-df-container\">\n",
              "    <div>\n",
              "<style scoped>\n",
              "    .dataframe tbody tr th:only-of-type {\n",
              "        vertical-align: middle;\n",
              "    }\n",
              "\n",
              "    .dataframe tbody tr th {\n",
              "        vertical-align: top;\n",
              "    }\n",
              "\n",
              "    .dataframe thead th {\n",
              "        text-align: right;\n",
              "    }\n",
              "</style>\n",
              "<table border=\"1\" class=\"dataframe\">\n",
              "  <thead>\n",
              "    <tr style=\"text-align: right;\">\n",
              "      <th></th>\n",
              "      <th>text</th>\n",
              "      <th>label</th>\n",
              "    </tr>\n",
              "  </thead>\n",
              "  <tbody>\n",
              "    <tr>\n",
              "      <th>0</th>\n",
              "      <td>donald trump s kids may support him in spirit ...</td>\n",
              "      <td>0</td>\n",
              "    </tr>\n",
              "    <tr>\n",
              "      <th>1</th>\n",
              "      <td>seoul reuters  north korea s latest defector a...</td>\n",
              "      <td>1</td>\n",
              "    </tr>\n",
              "    <tr>\n",
              "      <th>2</th>\n",
              "      <td>during a meeting of the welsh members of the p...</td>\n",
              "      <td>0</td>\n",
              "    </tr>\n",
              "    <tr>\n",
              "      <th>3</th>\n",
              "      <td>washington reuters  us president donald trump ...</td>\n",
              "      <td>1</td>\n",
              "    </tr>\n",
              "    <tr>\n",
              "      <th>4</th>\n",
              "      <td>dubai reuters  the radio station of yemen s ho...</td>\n",
              "      <td>1</td>\n",
              "    </tr>\n",
              "  </tbody>\n",
              "</table>\n",
              "</div>\n",
              "    <div class=\"colab-df-buttons\">\n",
              "\n",
              "  <div class=\"colab-df-container\">\n",
              "    <button class=\"colab-df-convert\" onclick=\"convertToInteractive('df-5c165205-7ed8-4edb-998b-12e9a12e2959')\"\n",
              "            title=\"Convert this dataframe to an interactive table.\"\n",
              "            style=\"display:none;\">\n",
              "\n",
              "  <svg xmlns=\"http://www.w3.org/2000/svg\" height=\"24px\" viewBox=\"0 -960 960 960\">\n",
              "    <path d=\"M120-120v-720h720v720H120Zm60-500h600v-160H180v160Zm220 220h160v-160H400v160Zm0 220h160v-160H400v160ZM180-400h160v-160H180v160Zm440 0h160v-160H620v160ZM180-180h160v-160H180v160Zm440 0h160v-160H620v160Z\"/>\n",
              "  </svg>\n",
              "    </button>\n",
              "\n",
              "  <style>\n",
              "    .colab-df-container {\n",
              "      display:flex;\n",
              "      gap: 12px;\n",
              "    }\n",
              "\n",
              "    .colab-df-convert {\n",
              "      background-color: #E8F0FE;\n",
              "      border: none;\n",
              "      border-radius: 50%;\n",
              "      cursor: pointer;\n",
              "      display: none;\n",
              "      fill: #1967D2;\n",
              "      height: 32px;\n",
              "      padding: 0 0 0 0;\n",
              "      width: 32px;\n",
              "    }\n",
              "\n",
              "    .colab-df-convert:hover {\n",
              "      background-color: #E2EBFA;\n",
              "      box-shadow: 0px 1px 2px rgba(60, 64, 67, 0.3), 0px 1px 3px 1px rgba(60, 64, 67, 0.15);\n",
              "      fill: #174EA6;\n",
              "    }\n",
              "\n",
              "    .colab-df-buttons div {\n",
              "      margin-bottom: 4px;\n",
              "    }\n",
              "\n",
              "    [theme=dark] .colab-df-convert {\n",
              "      background-color: #3B4455;\n",
              "      fill: #D2E3FC;\n",
              "    }\n",
              "\n",
              "    [theme=dark] .colab-df-convert:hover {\n",
              "      background-color: #434B5C;\n",
              "      box-shadow: 0px 1px 3px 1px rgba(0, 0, 0, 0.15);\n",
              "      filter: drop-shadow(0px 1px 2px rgba(0, 0, 0, 0.3));\n",
              "      fill: #FFFFFF;\n",
              "    }\n",
              "  </style>\n",
              "\n",
              "    <script>\n",
              "      const buttonEl =\n",
              "        document.querySelector('#df-5c165205-7ed8-4edb-998b-12e9a12e2959 button.colab-df-convert');\n",
              "      buttonEl.style.display =\n",
              "        google.colab.kernel.accessAllowed ? 'block' : 'none';\n",
              "\n",
              "      async function convertToInteractive(key) {\n",
              "        const element = document.querySelector('#df-5c165205-7ed8-4edb-998b-12e9a12e2959');\n",
              "        const dataTable =\n",
              "          await google.colab.kernel.invokeFunction('convertToInteractive',\n",
              "                                                    [key], {});\n",
              "        if (!dataTable) return;\n",
              "\n",
              "        const docLinkHtml = 'Like what you see? Visit the ' +\n",
              "          '<a target=\"_blank\" href=https://colab.research.google.com/notebooks/data_table.ipynb>data table notebook</a>'\n",
              "          + ' to learn more about interactive tables.';\n",
              "        element.innerHTML = '';\n",
              "        dataTable['output_type'] = 'display_data';\n",
              "        await google.colab.output.renderOutput(dataTable, element);\n",
              "        const docLink = document.createElement('div');\n",
              "        docLink.innerHTML = docLinkHtml;\n",
              "        element.appendChild(docLink);\n",
              "      }\n",
              "    </script>\n",
              "  </div>\n",
              "\n",
              "\n",
              "<div id=\"df-ae030216-365f-4855-826d-7ece10ac09e6\">\n",
              "  <button class=\"colab-df-quickchart\" onclick=\"quickchart('df-ae030216-365f-4855-826d-7ece10ac09e6')\"\n",
              "            title=\"Suggest charts\"\n",
              "            style=\"display:none;\">\n",
              "\n",
              "<svg xmlns=\"http://www.w3.org/2000/svg\" height=\"24px\"viewBox=\"0 0 24 24\"\n",
              "     width=\"24px\">\n",
              "    <g>\n",
              "        <path d=\"M19 3H5c-1.1 0-2 .9-2 2v14c0 1.1.9 2 2 2h14c1.1 0 2-.9 2-2V5c0-1.1-.9-2-2-2zM9 17H7v-7h2v7zm4 0h-2V7h2v10zm4 0h-2v-4h2v4z\"/>\n",
              "    </g>\n",
              "</svg>\n",
              "  </button>\n",
              "\n",
              "<style>\n",
              "  .colab-df-quickchart {\n",
              "      --bg-color: #E8F0FE;\n",
              "      --fill-color: #1967D2;\n",
              "      --hover-bg-color: #E2EBFA;\n",
              "      --hover-fill-color: #174EA6;\n",
              "      --disabled-fill-color: #AAA;\n",
              "      --disabled-bg-color: #DDD;\n",
              "  }\n",
              "\n",
              "  [theme=dark] .colab-df-quickchart {\n",
              "      --bg-color: #3B4455;\n",
              "      --fill-color: #D2E3FC;\n",
              "      --hover-bg-color: #434B5C;\n",
              "      --hover-fill-color: #FFFFFF;\n",
              "      --disabled-bg-color: #3B4455;\n",
              "      --disabled-fill-color: #666;\n",
              "  }\n",
              "\n",
              "  .colab-df-quickchart {\n",
              "    background-color: var(--bg-color);\n",
              "    border: none;\n",
              "    border-radius: 50%;\n",
              "    cursor: pointer;\n",
              "    display: none;\n",
              "    fill: var(--fill-color);\n",
              "    height: 32px;\n",
              "    padding: 0;\n",
              "    width: 32px;\n",
              "  }\n",
              "\n",
              "  .colab-df-quickchart:hover {\n",
              "    background-color: var(--hover-bg-color);\n",
              "    box-shadow: 0 1px 2px rgba(60, 64, 67, 0.3), 0 1px 3px 1px rgba(60, 64, 67, 0.15);\n",
              "    fill: var(--button-hover-fill-color);\n",
              "  }\n",
              "\n",
              "  .colab-df-quickchart-complete:disabled,\n",
              "  .colab-df-quickchart-complete:disabled:hover {\n",
              "    background-color: var(--disabled-bg-color);\n",
              "    fill: var(--disabled-fill-color);\n",
              "    box-shadow: none;\n",
              "  }\n",
              "\n",
              "  .colab-df-spinner {\n",
              "    border: 2px solid var(--fill-color);\n",
              "    border-color: transparent;\n",
              "    border-bottom-color: var(--fill-color);\n",
              "    animation:\n",
              "      spin 1s steps(1) infinite;\n",
              "  }\n",
              "\n",
              "  @keyframes spin {\n",
              "    0% {\n",
              "      border-color: transparent;\n",
              "      border-bottom-color: var(--fill-color);\n",
              "      border-left-color: var(--fill-color);\n",
              "    }\n",
              "    20% {\n",
              "      border-color: transparent;\n",
              "      border-left-color: var(--fill-color);\n",
              "      border-top-color: var(--fill-color);\n",
              "    }\n",
              "    30% {\n",
              "      border-color: transparent;\n",
              "      border-left-color: var(--fill-color);\n",
              "      border-top-color: var(--fill-color);\n",
              "      border-right-color: var(--fill-color);\n",
              "    }\n",
              "    40% {\n",
              "      border-color: transparent;\n",
              "      border-right-color: var(--fill-color);\n",
              "      border-top-color: var(--fill-color);\n",
              "    }\n",
              "    60% {\n",
              "      border-color: transparent;\n",
              "      border-right-color: var(--fill-color);\n",
              "    }\n",
              "    80% {\n",
              "      border-color: transparent;\n",
              "      border-right-color: var(--fill-color);\n",
              "      border-bottom-color: var(--fill-color);\n",
              "    }\n",
              "    90% {\n",
              "      border-color: transparent;\n",
              "      border-bottom-color: var(--fill-color);\n",
              "    }\n",
              "  }\n",
              "</style>\n",
              "\n",
              "  <script>\n",
              "    async function quickchart(key) {\n",
              "      const quickchartButtonEl =\n",
              "        document.querySelector('#' + key + ' button');\n",
              "      quickchartButtonEl.disabled = true;  // To prevent multiple clicks.\n",
              "      quickchartButtonEl.classList.add('colab-df-spinner');\n",
              "      try {\n",
              "        const charts = await google.colab.kernel.invokeFunction(\n",
              "            'suggestCharts', [key], {});\n",
              "      } catch (error) {\n",
              "        console.error('Error during call to suggestCharts:', error);\n",
              "      }\n",
              "      quickchartButtonEl.classList.remove('colab-df-spinner');\n",
              "      quickchartButtonEl.classList.add('colab-df-quickchart-complete');\n",
              "    }\n",
              "    (() => {\n",
              "      let quickchartButtonEl =\n",
              "        document.querySelector('#df-ae030216-365f-4855-826d-7ece10ac09e6 button');\n",
              "      quickchartButtonEl.style.display =\n",
              "        google.colab.kernel.accessAllowed ? 'block' : 'none';\n",
              "    })();\n",
              "  </script>\n",
              "</div>\n",
              "\n",
              "    </div>\n",
              "  </div>\n"
            ],
            "application/vnd.google.colaboratory.intrinsic+json": {
              "type": "dataframe",
              "variable_name": "df_data",
              "summary": "{\n  \"name\": \"df_data\",\n  \"rows\": 43551,\n  \"fields\": [\n    {\n      \"column\": \"text\",\n      \"properties\": {\n        \"dtype\": \"string\",\n        \"num_unique_values\": 37590,\n        \"samples\": [\n          \"donald trump was on a phone interview with cnn s chris cuomo and let him have it cuomo started out with a question about trump attacking hillary and trump was livid it s damn refreshing to see the left wing media get a shove bravo trump  first of all you should congratulate me for having won the race i thought you know at least there would be a small congratulations but i m not surprised with cnn because that s the way they treat trump it s the you know they call it the clinton network and i believe that  \",\n          \"washington reuters  milwaukee county sheriff david clarke an africanamerican who became a staunch critic of the black lives matter movement and supported donald trumps presidential campaign said on wednesday he has accepted a job as assistant secretary of the us department of homeland security clarke told radio station wisn in milwaukee that he would leave his post as sheriff next month to join the department of homeland security the post would not require senate confirmation department of homeland security spokeswoman jenny burke said no announcement on clarke had been made and said the role of assistant secretary must be made official by the secretary of the department  clarke said on wisns vicki mckenna show ill be a liaison with state and local governments and with the private sector and one thats really near and dear to me  liaison with the state local and tribal law enforcement according to an online recording of the show posted on the stations website clarkes office and spokeswoman in milwaukee could not be reached for comment on wednesday he said on the radio show that he would work with local agencies that can feel neglected or ignored by the federal government the department of homeland security created after the sept   attacks on new york and the pentagon includes agencies that handle customs border protection and immigration the coast guard the transportation security administration and the secret service the black lives matter movement grew out of protests over a number of police killings of unarmed black men in various parts of the united states the movement has challenged the use of excessive force by law enforcement officers  clarke has labeled members of the movement subhuman creeps and called for its eradication he spoke in support of trump at the republican national convention in cleveland last july critics have faulted clarke for his management of a milwaukee county jail where a mentally ill man died in  of dehydration an inquest jury recommended that seven employees of the jail be criminally charged democratic senator kamala harris of california called clarkes appointment a disgrace sheriff david clarkes unconscionable record makes him unfit to serve harris said in a tweet \",\n          \"on the national day of prayer donald trump lashed out at south korea and north korea while his administration wants congress to attach aid for victims of hurricane harvey to a bill that would increase the federal debt limit so trump is now at war with an influential group of house conservatives who have warned gop leaders not to connect the two funding initiatives this move might cause a looming conservative uprising usually with republicans they want a debt limit increase tied to spending cuts but now with an entire city underwater and thousands in shelters and at least  dead conservatives will have to battle it outon sunday treasury secretary steven mnuchin said that he and the former reality show star believe that raising the us debt limit which congress must do within the next few weeks in order to avoid defaulting on its bills should be tied to disaster relief funding for hurricane harvey without raising the debt limit i m not comfortable that we d get the money we d need this month to texas  mnuchin said on  fox news sunday treasury secretary steven mnuchin revealed the administration s approach sunday morning when he was asked whether the white house could guarantee that funding for the disaster would not be attached to the fight over the debt ceiling no i can t quite the contrary  mnuchin said adding  the president and i believe that it should be tied to the harvey funding watchnew sec mnuchin tells chris wallace on foxnewssunday that if the debt limit isnt raised it will interfere w the harvey relief effort pictwittercomefxtoowhc  pat ward warddpatrick september  mnuchin warned of a delay in recovery funding for texas if the debt ceiling is not raised according to the washington post our first priority is to make sure that the state gets money it is critical and to do that we need to make sure we raise the debt limit  he said  without raising the debt limit i m not comfortable that we will get the money that we need this month to texas to rebuild in  congressional republicans brought the country to the brink of default after refusing to raise the debt ceiling unless democrats agreed to a series of future spending cuts and now conservatives and republicans will have to slap fight each other in order to get aid to texasfeatured image via alex wonggetty images\"\n        ],\n        \"semantic_type\": \"\",\n        \"description\": \"\"\n      }\n    },\n    {\n      \"column\": \"label\",\n      \"properties\": {\n        \"dtype\": \"number\",\n        \"std\": 0,\n        \"min\": 0,\n        \"max\": 1,\n        \"num_unique_values\": 2,\n        \"samples\": [\n          1,\n          0\n        ],\n        \"semantic_type\": \"\",\n        \"description\": \"\"\n      }\n    }\n  ]\n}"
            }
          },
          "metadata": {},
          "execution_count": 2
        }
      ],
      "source": [
        "df_data = pd.read_csv('../data/processed/processed_data.csv')\n",
        "df_data.head()"
      ]
    },
    {
      "cell_type": "markdown",
      "metadata": {
        "id": "LVTk3cifethB"
      },
      "source": [
        "## 3. Checking Dataset Dimensions\n",
        "\n",
        "This provides the number of rows and columns, giving us an idea of the dataset's size."
      ]
    },
    {
      "cell_type": "code",
      "execution_count": 3,
      "metadata": {
        "colab": {
          "base_uri": "https://localhost:8080/"
        },
        "id": "qRM4f0n7ethB",
        "outputId": "90a3e07f-2d73-4465-becf-08d82ae6aeca"
      },
      "outputs": [
        {
          "output_type": "execute_result",
          "data": {
            "text/plain": [
              "(43551, 2)"
            ]
          },
          "metadata": {},
          "execution_count": 3
        }
      ],
      "source": [
        "df_data.shape"
      ]
    },
    {
      "cell_type": "markdown",
      "metadata": {
        "id": "67AlUwGOethC"
      },
      "source": [
        "## 4. Converting Data to a Numpy Array (Optional)\n",
        "\n",
        "Convert the dataset into a Numpy array format if needed for certain analyses or manipulations."
      ]
    },
    {
      "cell_type": "code",
      "execution_count": 4,
      "metadata": {
        "colab": {
          "base_uri": "https://localhost:8080/"
        },
        "id": "5EqntQaCethC",
        "outputId": "d0d41d08-b2f5-47f5-b7cf-f1d5508467e4"
      },
      "outputs": [
        {
          "output_type": "execute_result",
          "data": {
            "text/plain": [
              "array([['donald trump s kids may support him in spirit and terrible tweets but they won t be going out to vote for him in the new york primary ivanka and eric trump both failed to register as republicans in time to do so according to trump this is because new york s primary registration rules were unfair after all the cutoff was in october and at that point people   including apparently his own kids   still sort of expected trump to have dropped out by nowon cnn ivanka claimed new york s voting regulations are  onerous new york has one of the most onerous rules in terms of registration and it required us to register a long time ago almost   close to a year ago and we didn t do that we found out about it sort of after the fact to which the millions of disenfranchised democratic voters who have watched  voter id  laws sweep the country responded by playing the world s smallest violintrump himself told his supporters that ivanka and eric feel very very guilty  adding  they feel very guilty but it s fine i understand that except here s the thing the trump kids could probably vote for their dad if they really wanted to it would just require a little workin a highly informative piece on gothamist writer nathan tempey explained how someone who missed the primary registration deadline could still vote in the election it s certainly not ideal but it s not exactly rocket science eitherone is to try to get a court order stating you should be allowed to vote in a certain party s primary as difficult as this sounds the city board of elections actually stations judges at offices in each of the boroughs on primary day to do exactly this for reasons unknown this information doesn t appear on the board s website but a spokeswoman provided a list of locations and hours judges will be at them something tells me explaining to a judge  my dad s on the ballot  will be a good enough reason to get your vote counted however it s highly unlikely trump s kids will reduce themselves to standing in a busy borough office waiting to have a judge hear their case fill out the appropriate paperwork then travel to a voting site why do that when they can simply complain about it on fox newsfeatured image via grant lamos ivgetty images',\n",
              "        0],\n",
              "       ['seoul reuters  north korea s latest defector a young soldier known only by his family name oh is a quiet pleasant man who has nightmares about being returned to the north his surgeon said on thursday  he s a pretty nice guy  said lead surgeon john cookjong lee who has been operating and caring for the yearold oh has become a focus of worldwide attention after he was badly wounded by fellow north korean soldiers as he scrambled across the border in the demilitarized zone that separates north and south on nov  video of oh s escape released on wednesday showed him stumbling over the border and being dragged unconscious through the undergrowth by south korean troops surgeon lee has been almost the only person to speak with oh since he arrived at the hospital he told reuters in an interview at his office at ajou university hospital just a few floors away from where the defector lies guarded by south korean special forces and intelligence officers the surgeon who has hung a south korean flag in the soldier s room said he is avoiding subjects that may disturb his patient oh is eating his first  clear liquid  food such as broths and can smile talk and use his hands lee said but when his patient woke on sunday he cried out in pain and lee said he is still anxious about the south korean guards lee said oh told him that he had joined the north korean army when he was  right after secondary school graduation the soldier s hair is styled  like a jarhead like a us marine so i actually joked  why don t you join the south korean marines  he smiled and said that he would never ever go back to the military system again  medical teams have worked for days to remove the shards of at least four bullets from oh s body stitch up his shredded organs and treat preexisting conditions including tuberculosis hepatitis b and a case of massive intestinal worms lee said  he s a quite strong man  said lee  since oh s defection north korea appeared to have replaced all its security guards on the border an intelligence source in the south told yonhap news agency on thursday  lee said that when the defector arrived in an american military helicopter at the hospital   which is equipped with stateoftheart diagnostic equipment and is used to treat vip visitors such as visiting us presidents  he came with zero personal information on the flight in american army flight medics had fought to keep oh alive jabbing a large needle into his chest to treat a collapsed lung   oh was immediately wheeled into a diagnostic room where doctors confirmed he was suffering from massive internal bleeding  we knew then that we didn t have time to hesitate  lee said standing in that room thursday night two major surgeries were required to remove the bullets and patch oh back together and the medical team pumped as much as  liters of new blood into his body the normal body has less than half as much blood  he told me that he is so thankful for south koreans for saving his life and giving him that much blood  lee said lee has been playing south korean pop music and american films and tv shows for his patient but has not exposed him to any news coverage among the shows oh showed a liking for the frenchamerican thriller  transporter   comedy  bruce almighty  starring jim carrey and morgan freeman and the crimesolving tv series  csi  lee said most north korean defectors undergo security questioning by south korea s intelligence agency once they arrive in the south before being sent to a resettlement center for a threemonth education on life in the south after they are released central and local governments provide  million won  in cash over a year as well as support in housing education and job training police officers are assigned to each of the defectors to ensure their security and safety even if oh fully recovers some scars will stay for the rest of his life the surgeon said  among the longest lasting wounds will be the damage to his colon which was shredded by a bullet and had to be stitched back together in seven places  it s a lifelong complication for the patient so he s better to be very cautious in his diet  said the surgeon besides the potential for further medical complications lee says he is most worried about making sure oh recovers psychologically the soldier has already told him he had a nightmare about being returned to the north  the surgeon said he has asked senior south korean military officials who are eager to question the soldier to hold off  while he recovers  this north korean guy is not going anywhere  lee said  he is staying in south korea so we don t need to be hasty  ',\n",
              "        1],\n",
              "       ['during a meeting of the welsh members of the parliament pm nigel evans shamed the antitrump members reminding them that they have decided upon their own version of democracy and  that  million americans supported donald trump at the ballot box he started out by telling them  for those who find it difficult to understand to understand that the american people voted for donald trump get over it because he s president of the united states evans reminded the members of parliament that the  brexit  was also a referendum handed down by british voters to members of parliament who have forgotten them  we have to ask ourselves and this actually includes myself is that we have to ask ourselves why is it that people felt so left behind that they ve made the democratic decisions that they have  these were the forgotten people and just like we have the forgotten people in the united kingdom there are the forgotten people in the united states of america he s going to go down in history for being the only politician to deliver on his promises but the fact is that there were  million people who voted for donald trump and when we stand up in this country and then condemn him for being racist and i ve seen no evidence of that  i ve seen no evidence of him being racist or that they attacked him in an unseemly way we re actually attacking the american people the  million people who supported him here is the shortened versionhere is the full version ',\n",
              "        0],\n",
              "       ['washington reuters  us president donald trump said on saturday the actions of his former national security adviser michael flynn after the  election were lawful flynn on friday pleaded guilty to lying to the fbi and agreed to cooperate with special counsel robert muellers investigation into possible collusion between russia and trumps  presidential election campaign i had to fire general flynn because he lied to the vice president and the fbi he has pled guilty to those lies it is a shame because his actions during the transition were lawful there was nothing to hide trump said in a tweet ',\n",
              "        1],\n",
              "       ['dubai reuters  the radio station of yemen s houthicontrolled interior ministry said on monday that the group s rival expresident ali abdullah saleh had been killed but there has been no independent confirmation of his death the report added that the official houthi tv station would soon broadcast footage of his dead body while social media users in yemen circulated unverified images of a corpse which resembled the expresident saleh s party denied to reuters that their leader had been killed and said he was continuing to lead forces in their clashes against the houthis in the capital sanaa his whereabouts are unknown and he has made no public appearances since the reports of his death surfaced ',\n",
              "        1]], dtype=object)"
            ]
          },
          "metadata": {},
          "execution_count": 4
        }
      ],
      "source": [
        "data_array = df_data.values\n",
        "data_array[:5]"
      ]
    },
    {
      "cell_type": "markdown",
      "metadata": {
        "id": "LcmRTMEuethD"
      },
      "source": [
        "## 5. Displaying Dataset Information\n",
        "\n",
        "Use `info()` to check data types and identify any columns with missing values."
      ]
    },
    {
      "cell_type": "code",
      "execution_count": 5,
      "metadata": {
        "colab": {
          "base_uri": "https://localhost:8080/"
        },
        "id": "x2YgUWyVethE",
        "outputId": "0032fb83-aa21-4993-884c-ec02986dc7d3"
      },
      "outputs": [
        {
          "output_type": "stream",
          "name": "stdout",
          "text": [
            "<class 'pandas.core.frame.DataFrame'>\n",
            "RangeIndex: 43551 entries, 0 to 43550\n",
            "Data columns (total 2 columns):\n",
            " #   Column  Non-Null Count  Dtype \n",
            "---  ------  --------------  ----- \n",
            " 0   text    43471 non-null  object\n",
            " 1   label   43551 non-null  int64 \n",
            "dtypes: int64(1), object(1)\n",
            "memory usage: 680.6+ KB\n"
          ]
        }
      ],
      "source": [
        "df_data.info()"
      ]
    },
    {
      "cell_type": "markdown",
      "metadata": {
        "id": "MBnWpObZethF"
      },
      "source": [
        "## 6. Checking for Missing Values and Summary Statistics\n",
        "\n",
        "Check for missing values and display summary statistics for numerical columns."
      ]
    },
    {
      "cell_type": "code",
      "execution_count": 6,
      "metadata": {
        "colab": {
          "base_uri": "https://localhost:8080/",
          "height": 370
        },
        "id": "xHgoHBhiethG",
        "outputId": "59fa4c50-e60a-4321-bc50-32cc0af8a8c7"
      },
      "outputs": [
        {
          "output_type": "stream",
          "name": "stdout",
          "text": [
            "Missing values in each column:\n",
            " text     80\n",
            "label     0\n",
            "dtype: int64\n"
          ]
        },
        {
          "output_type": "execute_result",
          "data": {
            "text/plain": [
              "              label\n",
              "count  43551.000000\n",
              "mean       0.476820\n",
              "std        0.499468\n",
              "min        0.000000\n",
              "25%        0.000000\n",
              "50%        0.000000\n",
              "75%        1.000000\n",
              "max        1.000000"
            ],
            "text/html": [
              "\n",
              "  <div id=\"df-534f42f0-954c-462e-b8a1-682a53f254e8\" class=\"colab-df-container\">\n",
              "    <div>\n",
              "<style scoped>\n",
              "    .dataframe tbody tr th:only-of-type {\n",
              "        vertical-align: middle;\n",
              "    }\n",
              "\n",
              "    .dataframe tbody tr th {\n",
              "        vertical-align: top;\n",
              "    }\n",
              "\n",
              "    .dataframe thead th {\n",
              "        text-align: right;\n",
              "    }\n",
              "</style>\n",
              "<table border=\"1\" class=\"dataframe\">\n",
              "  <thead>\n",
              "    <tr style=\"text-align: right;\">\n",
              "      <th></th>\n",
              "      <th>label</th>\n",
              "    </tr>\n",
              "  </thead>\n",
              "  <tbody>\n",
              "    <tr>\n",
              "      <th>count</th>\n",
              "      <td>43551.000000</td>\n",
              "    </tr>\n",
              "    <tr>\n",
              "      <th>mean</th>\n",
              "      <td>0.476820</td>\n",
              "    </tr>\n",
              "    <tr>\n",
              "      <th>std</th>\n",
              "      <td>0.499468</td>\n",
              "    </tr>\n",
              "    <tr>\n",
              "      <th>min</th>\n",
              "      <td>0.000000</td>\n",
              "    </tr>\n",
              "    <tr>\n",
              "      <th>25%</th>\n",
              "      <td>0.000000</td>\n",
              "    </tr>\n",
              "    <tr>\n",
              "      <th>50%</th>\n",
              "      <td>0.000000</td>\n",
              "    </tr>\n",
              "    <tr>\n",
              "      <th>75%</th>\n",
              "      <td>1.000000</td>\n",
              "    </tr>\n",
              "    <tr>\n",
              "      <th>max</th>\n",
              "      <td>1.000000</td>\n",
              "    </tr>\n",
              "  </tbody>\n",
              "</table>\n",
              "</div>\n",
              "    <div class=\"colab-df-buttons\">\n",
              "\n",
              "  <div class=\"colab-df-container\">\n",
              "    <button class=\"colab-df-convert\" onclick=\"convertToInteractive('df-534f42f0-954c-462e-b8a1-682a53f254e8')\"\n",
              "            title=\"Convert this dataframe to an interactive table.\"\n",
              "            style=\"display:none;\">\n",
              "\n",
              "  <svg xmlns=\"http://www.w3.org/2000/svg\" height=\"24px\" viewBox=\"0 -960 960 960\">\n",
              "    <path d=\"M120-120v-720h720v720H120Zm60-500h600v-160H180v160Zm220 220h160v-160H400v160Zm0 220h160v-160H400v160ZM180-400h160v-160H180v160Zm440 0h160v-160H620v160ZM180-180h160v-160H180v160Zm440 0h160v-160H620v160Z\"/>\n",
              "  </svg>\n",
              "    </button>\n",
              "\n",
              "  <style>\n",
              "    .colab-df-container {\n",
              "      display:flex;\n",
              "      gap: 12px;\n",
              "    }\n",
              "\n",
              "    .colab-df-convert {\n",
              "      background-color: #E8F0FE;\n",
              "      border: none;\n",
              "      border-radius: 50%;\n",
              "      cursor: pointer;\n",
              "      display: none;\n",
              "      fill: #1967D2;\n",
              "      height: 32px;\n",
              "      padding: 0 0 0 0;\n",
              "      width: 32px;\n",
              "    }\n",
              "\n",
              "    .colab-df-convert:hover {\n",
              "      background-color: #E2EBFA;\n",
              "      box-shadow: 0px 1px 2px rgba(60, 64, 67, 0.3), 0px 1px 3px 1px rgba(60, 64, 67, 0.15);\n",
              "      fill: #174EA6;\n",
              "    }\n",
              "\n",
              "    .colab-df-buttons div {\n",
              "      margin-bottom: 4px;\n",
              "    }\n",
              "\n",
              "    [theme=dark] .colab-df-convert {\n",
              "      background-color: #3B4455;\n",
              "      fill: #D2E3FC;\n",
              "    }\n",
              "\n",
              "    [theme=dark] .colab-df-convert:hover {\n",
              "      background-color: #434B5C;\n",
              "      box-shadow: 0px 1px 3px 1px rgba(0, 0, 0, 0.15);\n",
              "      filter: drop-shadow(0px 1px 2px rgba(0, 0, 0, 0.3));\n",
              "      fill: #FFFFFF;\n",
              "    }\n",
              "  </style>\n",
              "\n",
              "    <script>\n",
              "      const buttonEl =\n",
              "        document.querySelector('#df-534f42f0-954c-462e-b8a1-682a53f254e8 button.colab-df-convert');\n",
              "      buttonEl.style.display =\n",
              "        google.colab.kernel.accessAllowed ? 'block' : 'none';\n",
              "\n",
              "      async function convertToInteractive(key) {\n",
              "        const element = document.querySelector('#df-534f42f0-954c-462e-b8a1-682a53f254e8');\n",
              "        const dataTable =\n",
              "          await google.colab.kernel.invokeFunction('convertToInteractive',\n",
              "                                                    [key], {});\n",
              "        if (!dataTable) return;\n",
              "\n",
              "        const docLinkHtml = 'Like what you see? Visit the ' +\n",
              "          '<a target=\"_blank\" href=https://colab.research.google.com/notebooks/data_table.ipynb>data table notebook</a>'\n",
              "          + ' to learn more about interactive tables.';\n",
              "        element.innerHTML = '';\n",
              "        dataTable['output_type'] = 'display_data';\n",
              "        await google.colab.output.renderOutput(dataTable, element);\n",
              "        const docLink = document.createElement('div');\n",
              "        docLink.innerHTML = docLinkHtml;\n",
              "        element.appendChild(docLink);\n",
              "      }\n",
              "    </script>\n",
              "  </div>\n",
              "\n",
              "\n",
              "<div id=\"df-ba7a037b-a5c7-4bf7-9e36-6932594d9de5\">\n",
              "  <button class=\"colab-df-quickchart\" onclick=\"quickchart('df-ba7a037b-a5c7-4bf7-9e36-6932594d9de5')\"\n",
              "            title=\"Suggest charts\"\n",
              "            style=\"display:none;\">\n",
              "\n",
              "<svg xmlns=\"http://www.w3.org/2000/svg\" height=\"24px\"viewBox=\"0 0 24 24\"\n",
              "     width=\"24px\">\n",
              "    <g>\n",
              "        <path d=\"M19 3H5c-1.1 0-2 .9-2 2v14c0 1.1.9 2 2 2h14c1.1 0 2-.9 2-2V5c0-1.1-.9-2-2-2zM9 17H7v-7h2v7zm4 0h-2V7h2v10zm4 0h-2v-4h2v4z\"/>\n",
              "    </g>\n",
              "</svg>\n",
              "  </button>\n",
              "\n",
              "<style>\n",
              "  .colab-df-quickchart {\n",
              "      --bg-color: #E8F0FE;\n",
              "      --fill-color: #1967D2;\n",
              "      --hover-bg-color: #E2EBFA;\n",
              "      --hover-fill-color: #174EA6;\n",
              "      --disabled-fill-color: #AAA;\n",
              "      --disabled-bg-color: #DDD;\n",
              "  }\n",
              "\n",
              "  [theme=dark] .colab-df-quickchart {\n",
              "      --bg-color: #3B4455;\n",
              "      --fill-color: #D2E3FC;\n",
              "      --hover-bg-color: #434B5C;\n",
              "      --hover-fill-color: #FFFFFF;\n",
              "      --disabled-bg-color: #3B4455;\n",
              "      --disabled-fill-color: #666;\n",
              "  }\n",
              "\n",
              "  .colab-df-quickchart {\n",
              "    background-color: var(--bg-color);\n",
              "    border: none;\n",
              "    border-radius: 50%;\n",
              "    cursor: pointer;\n",
              "    display: none;\n",
              "    fill: var(--fill-color);\n",
              "    height: 32px;\n",
              "    padding: 0;\n",
              "    width: 32px;\n",
              "  }\n",
              "\n",
              "  .colab-df-quickchart:hover {\n",
              "    background-color: var(--hover-bg-color);\n",
              "    box-shadow: 0 1px 2px rgba(60, 64, 67, 0.3), 0 1px 3px 1px rgba(60, 64, 67, 0.15);\n",
              "    fill: var(--button-hover-fill-color);\n",
              "  }\n",
              "\n",
              "  .colab-df-quickchart-complete:disabled,\n",
              "  .colab-df-quickchart-complete:disabled:hover {\n",
              "    background-color: var(--disabled-bg-color);\n",
              "    fill: var(--disabled-fill-color);\n",
              "    box-shadow: none;\n",
              "  }\n",
              "\n",
              "  .colab-df-spinner {\n",
              "    border: 2px solid var(--fill-color);\n",
              "    border-color: transparent;\n",
              "    border-bottom-color: var(--fill-color);\n",
              "    animation:\n",
              "      spin 1s steps(1) infinite;\n",
              "  }\n",
              "\n",
              "  @keyframes spin {\n",
              "    0% {\n",
              "      border-color: transparent;\n",
              "      border-bottom-color: var(--fill-color);\n",
              "      border-left-color: var(--fill-color);\n",
              "    }\n",
              "    20% {\n",
              "      border-color: transparent;\n",
              "      border-left-color: var(--fill-color);\n",
              "      border-top-color: var(--fill-color);\n",
              "    }\n",
              "    30% {\n",
              "      border-color: transparent;\n",
              "      border-left-color: var(--fill-color);\n",
              "      border-top-color: var(--fill-color);\n",
              "      border-right-color: var(--fill-color);\n",
              "    }\n",
              "    40% {\n",
              "      border-color: transparent;\n",
              "      border-right-color: var(--fill-color);\n",
              "      border-top-color: var(--fill-color);\n",
              "    }\n",
              "    60% {\n",
              "      border-color: transparent;\n",
              "      border-right-color: var(--fill-color);\n",
              "    }\n",
              "    80% {\n",
              "      border-color: transparent;\n",
              "      border-right-color: var(--fill-color);\n",
              "      border-bottom-color: var(--fill-color);\n",
              "    }\n",
              "    90% {\n",
              "      border-color: transparent;\n",
              "      border-bottom-color: var(--fill-color);\n",
              "    }\n",
              "  }\n",
              "</style>\n",
              "\n",
              "  <script>\n",
              "    async function quickchart(key) {\n",
              "      const quickchartButtonEl =\n",
              "        document.querySelector('#' + key + ' button');\n",
              "      quickchartButtonEl.disabled = true;  // To prevent multiple clicks.\n",
              "      quickchartButtonEl.classList.add('colab-df-spinner');\n",
              "      try {\n",
              "        const charts = await google.colab.kernel.invokeFunction(\n",
              "            'suggestCharts', [key], {});\n",
              "      } catch (error) {\n",
              "        console.error('Error during call to suggestCharts:', error);\n",
              "      }\n",
              "      quickchartButtonEl.classList.remove('colab-df-spinner');\n",
              "      quickchartButtonEl.classList.add('colab-df-quickchart-complete');\n",
              "    }\n",
              "    (() => {\n",
              "      let quickchartButtonEl =\n",
              "        document.querySelector('#df-ba7a037b-a5c7-4bf7-9e36-6932594d9de5 button');\n",
              "      quickchartButtonEl.style.display =\n",
              "        google.colab.kernel.accessAllowed ? 'block' : 'none';\n",
              "    })();\n",
              "  </script>\n",
              "</div>\n",
              "\n",
              "    </div>\n",
              "  </div>\n"
            ],
            "application/vnd.google.colaboratory.intrinsic+json": {
              "type": "dataframe",
              "summary": "{\n  \"name\": \"df_data\",\n  \"rows\": 8,\n  \"fields\": [\n    {\n      \"column\": \"label\",\n      \"properties\": {\n        \"dtype\": \"number\",\n        \"std\": 15397.453394080807,\n        \"min\": 0.0,\n        \"max\": 43551.0,\n        \"num_unique_values\": 5,\n        \"samples\": [\n          0.47682027967210855,\n          1.0,\n          0.49946814588720473\n        ],\n        \"semantic_type\": \"\",\n        \"description\": \"\"\n      }\n    }\n  ]\n}"
            }
          },
          "metadata": {},
          "execution_count": 6
        }
      ],
      "source": [
        "missing_values = df_data.isnull().sum()\n",
        "print(\"Missing values in each column:\\n\", missing_values)\n",
        "\n",
        "df_data.describe()"
      ]
    },
    {
      "cell_type": "markdown",
      "metadata": {
        "id": "JhFfUTJbethG"
      },
      "source": [
        "## 7. Exploring Text Lengths\n",
        "\n",
        "Analyze the length of each news article by adding a `text_length` column and plot the distribution."
      ]
    },
    {
      "cell_type": "code",
      "execution_count": 8,
      "metadata": {
        "colab": {
          "base_uri": "https://localhost:8080/",
          "height": 564
        },
        "id": "w_m8BE2UethH",
        "outputId": "49457a72-deea-46ef-f59a-d41ff22f8042"
      },
      "outputs": [
        {
          "output_type": "display_data",
          "data": {
            "text/plain": [
              "<Figure size 1000x600 with 1 Axes>"
            ],
            "image/png": "[encoded data removed]"
          },
          "metadata": {}
        }
      ],
      "source": [
        "# Convert the 'text' column to strings and replace NaN with an empty string\n",
        "df_data['text'] = df_data['text'].fillna('').astype(str)\n",
        "\n",
        "# Add a new column for text length\n",
        "df_data['text_length'] = df_data['text'].apply(len)\n",
        "\n",
        "# Plot the distribution of article lengths\n",
        "plt.figure(figsize=(10, 6))\n",
        "sns.histplot(df_data['text_length'], bins=50, kde=True, color='skyblue')\n",
        "plt.title('Distribution of News Article Lengths')\n",
        "plt.xlabel('Length of Text')\n",
        "plt.ylabel('Frequency')\n",
        "plt.show()"
      ]
    },
    {
      "cell_type": "markdown",
      "metadata": {
        "id": "0tyODzYCethH"
      },
      "source": [
        "## 8. Checking Label Distribution\n",
        "\n",
        "Check the distribution of labels to see if there’s an imbalance between real and fake news articles."
      ]
    },
    {
      "cell_type": "code",
      "execution_count": 9,
      "metadata": {
        "colab": {
          "base_uri": "https://localhost:8080/",
          "height": 487
        },
        "id": "JbCprSLNethX",
        "outputId": "816a61b6-08eb-4d1c-b0a0-9ac0abedad6c"
      },
      "outputs": [
        {
          "output_type": "display_data",
          "data": {
            "text/plain": [
              "<Figure size 800x500 with 1 Axes>"
            ],
            "image/png": "[encoded data removed]"
          },
          "metadata": {}
        }
      ],
      "source": [
        "df_data['label'] = df_data['label'].map({0: 'False', 1: 'True'})\n",
        "plt.figure(figsize=(8, 5))\n",
        "sns.countplot(x='label', hue='label', data=df_data, palette='pastel', dodge=False, legend=False)\n",
        "plt.title('Distribution of False vs True News')\n",
        "plt.xlabel('News Type')\n",
        "plt.ylabel('Count')\n",
        "plt.show()"
      ]
    },
    {
      "cell_type": "markdown",
      "metadata": {
        "id": "AZ7ovW_TethX"
      },
      "source": [
        "## 9. Top 5 Most Frequent Words\n",
        "\n",
        "Identify the most common words across the articles, which can indicate themes or biases."
      ]
    },
    {
      "cell_type": "code",
      "execution_count": 12,
      "metadata": {
        "colab": {
          "base_uri": "https://localhost:8080/"
        },
        "id": "Xrp0wemsethY",
        "outputId": "601ccba1-1920-44a4-8a8f-563e44d9a3cc"
      },
      "outputs": [
        {
          "output_type": "stream",
          "name": "stdout",
          "text": [
            "Top 5 most frequent words in the dataset:\n",
            "        word  frequency\n",
            "0       said     126143\n",
            "1      trump     113017\n",
            "2  president      49594\n",
            "3     people      39820\n",
            "4      state      30353\n"
          ]
        }
      ],
      "source": [
        "vectorizer = CountVectorizer(stop_words='english', max_features=5)\n",
        "word_matrix = vectorizer.fit_transform(df_data['text'])\n",
        "word_freq = np.array(word_matrix.sum(axis=0)).flatten()\n",
        "word_freq_df = pd.DataFrame({'word': vectorizer.get_feature_names_out(), 'frequency': word_freq})\n",
        "word_freq_df = word_freq_df.sort_values(by='frequency', ascending=False).reset_index(drop=True)\n",
        "print(\"Top 5 most frequent words in the dataset:\")\n",
        "print(word_freq_df)"
      ]
    }
  ],
  "metadata": {
    "kernelspec": {
      "display_name": "Python 3",
      "language": "python",
      "name": "python3"
    },
    "language_info": {
      "codemirror_mode": {
        "name": "ipython",
        "version": 3
      },
      "file_extension": ".py",
      "mimetype": "text/x-python",
      "name": "python",
      "nbconvert_exporter": "python",
      "pygments_lexer": "ipython3",
      "version": "3.12.6"
    },
    "colab": {
      "provenance": []
    }
  },
  "nbformat": 4,
  "nbformat_minor": 0
}